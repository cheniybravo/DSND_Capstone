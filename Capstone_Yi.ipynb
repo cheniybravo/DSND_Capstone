{
 "cells": [
  {
   "cell_type": "code",
   "execution_count": 610,
   "id": "0d4d52f9-9a97-4197-a4b9-2b2496f6c7c4",
   "metadata": {},
   "outputs": [],
   "source": [
    "import pandas as pd\n",
    "import numpy as np\n",
    "import math\n",
    "import json\n",
    "from datetime import datetime\n",
    "import seaborn as sns\n",
    "import matplotlib.pyplot as plt\n",
    "import sqlite3\n",
    "\n",
    "from sklearn.preprocessing import StandardScaler, OneHotEncoder\n",
    "from sklearn.impute import SimpleImputer\n",
    "from sklearn.compose import ColumnTransformer\n",
    "from sklearn.pipeline import Pipeline, FeatureUnion\n",
    "from sklearn.model_selection import train_test_split, GridSearchCV\n",
    "from sklearn.ensemble import RandomForestClassifier, GradientBoostingClassifier\n",
    "from sklearn.neural_network import MLPClassifier\n",
    "from sklearn.linear_model import LogisticRegression, LinearRegression\n",
    "from sklearn.metrics import r2_score, mean_squared_error, accuracy_score, roc_auc_score,precision_score, f1_score,recall_score\n",
    "\n",
    "import warnings\n",
    "\n",
    "warnings.filterwarnings(\"ignore\")\n",
    "sns.set_theme(style=\"whitegrid\")\n",
    "%matplotlib inline"
   ]
  },
  {
   "cell_type": "markdown",
   "id": "194e2909",
   "metadata": {},
   "source": [
    "# 1. Data Preparation"
   ]
  },
  {
   "cell_type": "code",
   "execution_count": 611,
   "id": "7d1207c2",
   "metadata": {},
   "outputs": [],
   "source": [
    "# read in the json files\n",
    "portfolio = pd.read_json('data/portfolio.json', orient='records', lines=True)\n",
    "profile = pd.read_json('data/profile.json', orient='records', lines=True)\n",
    "transcript = pd.read_json('data/transcript.json', orient='records', lines=True)"
   ]
  },
  {
   "cell_type": "markdown",
   "id": "09874c69",
   "metadata": {},
   "source": [
    "## 1.1. Transcript Data"
   ]
  },
  {
   "cell_type": "code",
   "execution_count": 612,
   "id": "9a2ebccf",
   "metadata": {},
   "outputs": [
    {
     "data": {
      "text/plain": [
       "transaction        138953\n",
       "offer received      76277\n",
       "offer viewed        57725\n",
       "offer completed     33579\n",
       "Name: event, dtype: int64"
      ]
     },
     "execution_count": 612,
     "metadata": {},
     "output_type": "execute_result"
    }
   ],
   "source": [
    "transcript.event.value_counts(dropna=False)"
   ]
  },
  {
   "cell_type": "code",
   "execution_count": 614,
   "id": "449028c9",
   "metadata": {},
   "outputs": [
    {
     "data": {
      "text/html": [
       "<div>\n",
       "<style scoped>\n",
       "    .dataframe tbody tr th:only-of-type {\n",
       "        vertical-align: middle;\n",
       "    }\n",
       "\n",
       "    .dataframe tbody tr th {\n",
       "        vertical-align: top;\n",
       "    }\n",
       "\n",
       "    .dataframe thead th {\n",
       "        text-align: right;\n",
       "    }\n",
       "</style>\n",
       "<table border=\"1\" class=\"dataframe\">\n",
       "  <thead>\n",
       "    <tr style=\"text-align: right;\">\n",
       "      <th></th>\n",
       "      <th>person</th>\n",
       "      <th>event</th>\n",
       "      <th>time</th>\n",
       "      <th>offer_id</th>\n",
       "      <th>offer_id_amt_source</th>\n",
       "    </tr>\n",
       "  </thead>\n",
       "  <tbody>\n",
       "    <tr>\n",
       "      <th>0</th>\n",
       "      <td>78afa995795e4d85b5d9ceeca43f5fef</td>\n",
       "      <td>offer received</td>\n",
       "      <td>0</td>\n",
       "      <td>9b98b8c7a33c4b65b9aebfe6a799e6d9</td>\n",
       "      <td>offer id</td>\n",
       "    </tr>\n",
       "    <tr>\n",
       "      <th>1</th>\n",
       "      <td>a03223e636434f42ac4c3df47e8bac43</td>\n",
       "      <td>offer received</td>\n",
       "      <td>0</td>\n",
       "      <td>0b1e1539f2cc45b7b9fa7c272da2e1d7</td>\n",
       "      <td>offer id</td>\n",
       "    </tr>\n",
       "    <tr>\n",
       "      <th>2</th>\n",
       "      <td>e2127556f4f64592b11af22de27a7932</td>\n",
       "      <td>offer received</td>\n",
       "      <td>0</td>\n",
       "      <td>2906b810c7d4411798c6938adc9daaa5</td>\n",
       "      <td>offer id</td>\n",
       "    </tr>\n",
       "    <tr>\n",
       "      <th>3</th>\n",
       "      <td>8ec6ce2a7e7949b1bf142def7d0e0586</td>\n",
       "      <td>offer received</td>\n",
       "      <td>0</td>\n",
       "      <td>fafdcd668e3743c1bb461111dcafc2a4</td>\n",
       "      <td>offer id</td>\n",
       "    </tr>\n",
       "    <tr>\n",
       "      <th>4</th>\n",
       "      <td>68617ca6246f4fbc85e91a2a49552598</td>\n",
       "      <td>offer received</td>\n",
       "      <td>0</td>\n",
       "      <td>4d5c57ea9a6940dd891ad53e9dbe8da0</td>\n",
       "      <td>offer id</td>\n",
       "    </tr>\n",
       "  </tbody>\n",
       "</table>\n",
       "</div>"
      ],
      "text/plain": [
       "                             person           event  time  \\\n",
       "0  78afa995795e4d85b5d9ceeca43f5fef  offer received     0   \n",
       "1  a03223e636434f42ac4c3df47e8bac43  offer received     0   \n",
       "2  e2127556f4f64592b11af22de27a7932  offer received     0   \n",
       "3  8ec6ce2a7e7949b1bf142def7d0e0586  offer received     0   \n",
       "4  68617ca6246f4fbc85e91a2a49552598  offer received     0   \n",
       "\n",
       "                           offer_id offer_id_amt_source  \n",
       "0  9b98b8c7a33c4b65b9aebfe6a799e6d9            offer id  \n",
       "1  0b1e1539f2cc45b7b9fa7c272da2e1d7            offer id  \n",
       "2  2906b810c7d4411798c6938adc9daaa5            offer id  \n",
       "3  fafdcd668e3743c1bb461111dcafc2a4            offer id  \n",
       "4  4d5c57ea9a6940dd891ad53e9dbe8da0            offer id  "
      ]
     },
     "execution_count": 614,
     "metadata": {},
     "output_type": "execute_result"
    }
   ],
   "source": [
    "transcript['offer_id'] = transcript.value.apply(lambda x: list(x.values())[0])\n",
    "transcript['offer_id_amt_source'] = transcript.value.apply(lambda x: list(x.keys())[0])\n",
    "transcript.drop(columns = 'value', inplace = True)\n",
    "transcript.head()"
   ]
  },
  {
   "cell_type": "code",
   "execution_count": 616,
   "id": "800ef39f",
   "metadata": {},
   "outputs": [
    {
     "data": {
      "text/html": [
       "<div>\n",
       "<style scoped>\n",
       "    .dataframe tbody tr th:only-of-type {\n",
       "        vertical-align: middle;\n",
       "    }\n",
       "\n",
       "    .dataframe tbody tr th {\n",
       "        vertical-align: top;\n",
       "    }\n",
       "\n",
       "    .dataframe thead th {\n",
       "        text-align: right;\n",
       "    }\n",
       "</style>\n",
       "<table border=\"1\" class=\"dataframe\">\n",
       "  <thead>\n",
       "    <tr style=\"text-align: right;\">\n",
       "      <th></th>\n",
       "      <th>person</th>\n",
       "      <th>event</th>\n",
       "      <th>time</th>\n",
       "      <th>amt</th>\n",
       "    </tr>\n",
       "  </thead>\n",
       "  <tbody>\n",
       "    <tr>\n",
       "      <th>12654</th>\n",
       "      <td>02c083884c7d45b39cc68e1314fec56c</td>\n",
       "      <td>transaction</td>\n",
       "      <td>0</td>\n",
       "      <td>0.83</td>\n",
       "    </tr>\n",
       "    <tr>\n",
       "      <th>12657</th>\n",
       "      <td>9fa9ae8f57894cc9a3b8a9bbe0fc1b2f</td>\n",
       "      <td>transaction</td>\n",
       "      <td>0</td>\n",
       "      <td>34.56</td>\n",
       "    </tr>\n",
       "    <tr>\n",
       "      <th>12659</th>\n",
       "      <td>54890f68699049c2a04d415abc25e717</td>\n",
       "      <td>transaction</td>\n",
       "      <td>0</td>\n",
       "      <td>13.23</td>\n",
       "    </tr>\n",
       "  </tbody>\n",
       "</table>\n",
       "</div>"
      ],
      "text/plain": [
       "                                 person        event  time    amt\n",
       "12654  02c083884c7d45b39cc68e1314fec56c  transaction     0   0.83\n",
       "12657  9fa9ae8f57894cc9a3b8a9bbe0fc1b2f  transaction     0  34.56\n",
       "12659  54890f68699049c2a04d415abc25e717  transaction     0  13.23"
      ]
     },
     "execution_count": 616,
     "metadata": {},
     "output_type": "execute_result"
    }
   ],
   "source": [
    "# Removed offer event rows, only keep transaction rows.\n",
    "txn = transcript[transcript.event == 'transaction'].drop(columns = 'offer_id_amt_source').rename(columns = {'offer_id': 'amt'})\n",
    "txn.head(3)"
   ]
  },
  {
   "cell_type": "code",
   "execution_count": 943,
   "id": "fad99818",
   "metadata": {},
   "outputs": [
    {
     "data": {
      "text/plain": [
       "person                 0\n",
       "event                  0\n",
       "time                   0\n",
       "offer_id               0\n",
       "offer_id_amt_source    0\n",
       "dtype: int64"
      ]
     },
     "execution_count": 943,
     "metadata": {},
     "output_type": "execute_result"
    }
   ],
   "source": [
    "# check missing values\n",
    "transcript.isnull().sum(axis = 0)"
   ]
  },
  {
   "cell_type": "markdown",
   "id": "a214ac47",
   "metadata": {},
   "source": [
    "## 1.2. Portfolio Data"
   ]
  },
  {
   "cell_type": "code",
   "execution_count": 793,
   "id": "50f65052",
   "metadata": {},
   "outputs": [
    {
     "data": {
      "text/html": [
       "<div>\n",
       "<style scoped>\n",
       "    .dataframe tbody tr th:only-of-type {\n",
       "        vertical-align: middle;\n",
       "    }\n",
       "\n",
       "    .dataframe tbody tr th {\n",
       "        vertical-align: top;\n",
       "    }\n",
       "\n",
       "    .dataframe thead th {\n",
       "        text-align: right;\n",
       "    }\n",
       "</style>\n",
       "<table border=\"1\" class=\"dataframe\">\n",
       "  <thead>\n",
       "    <tr style=\"text-align: right;\">\n",
       "      <th></th>\n",
       "      <th>reward</th>\n",
       "      <th>channels</th>\n",
       "      <th>difficulty</th>\n",
       "      <th>duration</th>\n",
       "      <th>offer_type</th>\n",
       "      <th>offer_id</th>\n",
       "      <th>email</th>\n",
       "      <th>mobile</th>\n",
       "      <th>social</th>\n",
       "      <th>web</th>\n",
       "    </tr>\n",
       "  </thead>\n",
       "  <tbody>\n",
       "    <tr>\n",
       "      <th>0</th>\n",
       "      <td>10</td>\n",
       "      <td>email,mobile,social</td>\n",
       "      <td>10</td>\n",
       "      <td>7</td>\n",
       "      <td>bogo</td>\n",
       "      <td>ae264e3637204a6fb9bb56bc8210ddfd</td>\n",
       "      <td>1</td>\n",
       "      <td>1</td>\n",
       "      <td>1</td>\n",
       "      <td>0</td>\n",
       "    </tr>\n",
       "    <tr>\n",
       "      <th>1</th>\n",
       "      <td>10</td>\n",
       "      <td>web,email,mobile,social</td>\n",
       "      <td>10</td>\n",
       "      <td>5</td>\n",
       "      <td>bogo</td>\n",
       "      <td>4d5c57ea9a6940dd891ad53e9dbe8da0</td>\n",
       "      <td>1</td>\n",
       "      <td>1</td>\n",
       "      <td>1</td>\n",
       "      <td>1</td>\n",
       "    </tr>\n",
       "    <tr>\n",
       "      <th>2</th>\n",
       "      <td>0</td>\n",
       "      <td>web,email,mobile</td>\n",
       "      <td>0</td>\n",
       "      <td>4</td>\n",
       "      <td>informational</td>\n",
       "      <td>3f207df678b143eea3cee63160fa8bed</td>\n",
       "      <td>1</td>\n",
       "      <td>1</td>\n",
       "      <td>0</td>\n",
       "      <td>1</td>\n",
       "    </tr>\n",
       "    <tr>\n",
       "      <th>3</th>\n",
       "      <td>5</td>\n",
       "      <td>web,email,mobile</td>\n",
       "      <td>5</td>\n",
       "      <td>7</td>\n",
       "      <td>bogo</td>\n",
       "      <td>9b98b8c7a33c4b65b9aebfe6a799e6d9</td>\n",
       "      <td>1</td>\n",
       "      <td>1</td>\n",
       "      <td>0</td>\n",
       "      <td>1</td>\n",
       "    </tr>\n",
       "    <tr>\n",
       "      <th>4</th>\n",
       "      <td>5</td>\n",
       "      <td>web,email</td>\n",
       "      <td>20</td>\n",
       "      <td>10</td>\n",
       "      <td>discount</td>\n",
       "      <td>0b1e1539f2cc45b7b9fa7c272da2e1d7</td>\n",
       "      <td>1</td>\n",
       "      <td>0</td>\n",
       "      <td>0</td>\n",
       "      <td>1</td>\n",
       "    </tr>\n",
       "  </tbody>\n",
       "</table>\n",
       "</div>"
      ],
      "text/plain": [
       "   reward                 channels  difficulty  duration     offer_type  \\\n",
       "0      10      email,mobile,social          10         7           bogo   \n",
       "1      10  web,email,mobile,social          10         5           bogo   \n",
       "2       0         web,email,mobile           0         4  informational   \n",
       "3       5         web,email,mobile           5         7           bogo   \n",
       "4       5                web,email          20        10       discount   \n",
       "\n",
       "                           offer_id  email  mobile  social  web  \n",
       "0  ae264e3637204a6fb9bb56bc8210ddfd      1       1       1    0  \n",
       "1  4d5c57ea9a6940dd891ad53e9dbe8da0      1       1       1    1  \n",
       "2  3f207df678b143eea3cee63160fa8bed      1       1       0    1  \n",
       "3  9b98b8c7a33c4b65b9aebfe6a799e6d9      1       1       0    1  \n",
       "4  0b1e1539f2cc45b7b9fa7c272da2e1d7      1       0       0    1  "
      ]
     },
     "execution_count": 793,
     "metadata": {},
     "output_type": "execute_result"
    }
   ],
   "source": [
    "portfolio_c = portfolio.copy()\n",
    "portfolio_c['channels'] = portfolio_c['channels'].str.join(',')\n",
    "channel_split = portfolio_c['channels'].str.get_dummies(',')\n",
    "portfolio_c = portfolio_c.merge(channel_split, left_index=True, right_index=True)\n",
    "portfolio_c.rename(columns = {\"id\": \"offer_id\"}, inplace = True)\n",
    "\n",
    "portfolio_c.head()"
   ]
  },
  {
   "cell_type": "code",
   "execution_count": 977,
   "id": "e56227da",
   "metadata": {},
   "outputs": [
    {
     "data": {
      "text/plain": [
       "10"
      ]
     },
     "execution_count": 977,
     "metadata": {},
     "output_type": "execute_result"
    }
   ],
   "source": [
    "portfolio_c.offer_id.nunique()"
   ]
  },
  {
   "cell_type": "code",
   "execution_count": 978,
   "id": "07e428b2",
   "metadata": {},
   "outputs": [],
   "source": [
    "# decode offer ids\n",
    "portfolio_c['offer_id_short'] = portfolio_c.offer_id.map({\n",
    "       '2906b810c7d4411798c6938adc9daaa5': '1',\n",
    "       '3f207df678b143eea3cee63160fa8bed': '2',\n",
    "       '5a8bc65990b245e5a138643cd4eb9837': '3',\n",
    "       'f19421c1d4aa40978ebb69ca19b0e20d': '4',\n",
    "       'fafdcd668e3743c1bb461111dcafc2a4': '5',\n",
    "       '4d5c57ea9a6940dd891ad53e9dbe8da0': '6',\n",
    "       'ae264e3637204a6fb9bb56bc8210ddfd': '7',\n",
    "       '2298d6c36e964ae4a3e7e9706d1fb8c2': '8',\n",
    "       '9b98b8c7a33c4b65b9aebfe6a799e6d9': '9',\n",
    "       '0b1e1539f2cc45b7b9fa7c272da2e1d7': '10'})"
   ]
  },
  {
   "cell_type": "code",
   "execution_count": 979,
   "id": "abda137d",
   "metadata": {},
   "outputs": [
    {
     "data": {
      "text/plain": [
       "reward            0.0\n",
       "channels          0.0\n",
       "difficulty        0.0\n",
       "duration          0.0\n",
       "offer_type        0.0\n",
       "offer_id          0.0\n",
       "email             0.0\n",
       "mobile            0.0\n",
       "social            0.0\n",
       "web               0.0\n",
       "offer_id_short    0.0\n",
       "dtype: float64"
      ]
     },
     "execution_count": 979,
     "metadata": {},
     "output_type": "execute_result"
    }
   ],
   "source": [
    "# check missing values\n",
    "portfolio_c.isnull().mean()"
   ]
  },
  {
   "cell_type": "markdown",
   "id": "a214ac47",
   "metadata": {},
   "source": [
    "## 1.3. Profile Data"
   ]
  },
  {
   "cell_type": "code",
   "execution_count": 980,
   "id": "fd0f0b43",
   "metadata": {},
   "outputs": [
    {
     "data": {
      "text/html": [
       "<div>\n",
       "<style scoped>\n",
       "    .dataframe tbody tr th:only-of-type {\n",
       "        vertical-align: middle;\n",
       "    }\n",
       "\n",
       "    .dataframe tbody tr th {\n",
       "        vertical-align: top;\n",
       "    }\n",
       "\n",
       "    .dataframe thead th {\n",
       "        text-align: right;\n",
       "    }\n",
       "</style>\n",
       "<table border=\"1\" class=\"dataframe\">\n",
       "  <thead>\n",
       "    <tr style=\"text-align: right;\">\n",
       "      <th></th>\n",
       "      <th>gender</th>\n",
       "      <th>age</th>\n",
       "      <th>person</th>\n",
       "      <th>income</th>\n",
       "      <th>tenure</th>\n",
       "    </tr>\n",
       "  </thead>\n",
       "  <tbody>\n",
       "    <tr>\n",
       "      <th>0</th>\n",
       "      <td>None</td>\n",
       "      <td>118</td>\n",
       "      <td>68be06ca386d4c31939f3a4f0e3dd783</td>\n",
       "      <td>NaN</td>\n",
       "      <td>1053</td>\n",
       "    </tr>\n",
       "    <tr>\n",
       "      <th>1</th>\n",
       "      <td>F</td>\n",
       "      <td>55</td>\n",
       "      <td>0610b486422d4921ae7d2bf64640c50b</td>\n",
       "      <td>112000.0</td>\n",
       "      <td>900</td>\n",
       "    </tr>\n",
       "    <tr>\n",
       "      <th>2</th>\n",
       "      <td>None</td>\n",
       "      <td>118</td>\n",
       "      <td>38fe809add3b4fcf9315a9694bb96ff5</td>\n",
       "      <td>NaN</td>\n",
       "      <td>538</td>\n",
       "    </tr>\n",
       "    <tr>\n",
       "      <th>3</th>\n",
       "      <td>F</td>\n",
       "      <td>75</td>\n",
       "      <td>78afa995795e4d85b5d9ceeca43f5fef</td>\n",
       "      <td>100000.0</td>\n",
       "      <td>967</td>\n",
       "    </tr>\n",
       "    <tr>\n",
       "      <th>4</th>\n",
       "      <td>None</td>\n",
       "      <td>118</td>\n",
       "      <td>a03223e636434f42ac4c3df47e8bac43</td>\n",
       "      <td>NaN</td>\n",
       "      <td>880</td>\n",
       "    </tr>\n",
       "  </tbody>\n",
       "</table>\n",
       "</div>"
      ],
      "text/plain": [
       "  gender  age                            person    income  tenure\n",
       "0   None  118  68be06ca386d4c31939f3a4f0e3dd783       NaN    1053\n",
       "1      F   55  0610b486422d4921ae7d2bf64640c50b  112000.0     900\n",
       "2   None  118  38fe809add3b4fcf9315a9694bb96ff5       NaN     538\n",
       "3      F   75  78afa995795e4d85b5d9ceeca43f5fef  100000.0     967\n",
       "4   None  118  a03223e636434f42ac4c3df47e8bac43       NaN     880"
      ]
     },
     "execution_count": 980,
     "metadata": {},
     "output_type": "execute_result"
    }
   ],
   "source": [
    "profile_c = profile.copy()\n",
    "profile_c['start_dt'] = pd.to_datetime(profile_c['became_member_on'], format='%Y%m%d')\n",
    "profile_c['tenure'] = (datetime(2020,1,1) - profile_c['start_dt']).dt.days\n",
    "profile_c.drop(columns = ['became_member_on','start_dt'], inplace = True)\n",
    "profile_c.rename(columns = {\"id\": \"person\"}, inplace= True)\n",
    "profile_c.head()"
   ]
  },
  {
   "cell_type": "code",
   "execution_count": 981,
   "id": "d647201b",
   "metadata": {},
   "outputs": [
    {
     "data": {
      "text/plain": [
       "gender    0.127941\n",
       "age       0.000000\n",
       "person    0.000000\n",
       "income    0.127941\n",
       "tenure    0.000000\n",
       "dtype: float64"
      ]
     },
     "execution_count": 981,
     "metadata": {},
     "output_type": "execute_result"
    }
   ],
   "source": [
    "# check missing values\n",
    "profile_c.isnull().mean()"
   ]
  },
  {
   "cell_type": "markdown",
   "id": "57119698",
   "metadata": {},
   "source": [
    "### 1.3.1. Remove Missing Value "
   ]
  },
  {
   "cell_type": "code",
   "execution_count": 982,
   "id": "73251983",
   "metadata": {},
   "outputs": [
    {
     "data": {
      "text/plain": [
       "gender    0.0\n",
       "age       0.0\n",
       "person    0.0\n",
       "income    0.0\n",
       "tenure    0.0\n",
       "dtype: float64"
      ]
     },
     "execution_count": 982,
     "metadata": {},
     "output_type": "execute_result"
    }
   ],
   "source": [
    "profile_clean = profile_c[profile_c.gender.isin(['F','M'])]\n",
    "# check missing values\n",
    "profile_clean.isnull().mean()"
   ]
  },
  {
   "cell_type": "markdown",
   "id": "61ee417b",
   "metadata": {},
   "source": [
    "# 2. Exploratory Data Analysis\n",
    "## 2.1. More Data Manipulations"
   ]
  },
  {
   "cell_type": "markdown",
   "id": "30011906",
   "metadata": {},
   "source": [
    "### 2.1.1. Create Offer Level DataFrame"
   ]
  },
  {
   "cell_type": "code",
   "execution_count": 983,
   "id": "678656c7",
   "metadata": {},
   "outputs": [],
   "source": [
    "offer_txn = transcript[transcript.event != 'transaction'].merge(portfolio_c, on = 'offer_id', how = 'left') \\\n",
    "    .merge(profile_clean, on = 'person', how = 'inner')"
   ]
  },
  {
   "cell_type": "code",
   "execution_count": 984,
   "id": "2db60618",
   "metadata": {},
   "outputs": [
    {
     "data": {
      "text/plain": [
       "(146615, 19)"
      ]
     },
     "execution_count": 984,
     "metadata": {},
     "output_type": "execute_result"
    }
   ],
   "source": [
    "offer_txn.shape"
   ]
  },
  {
   "cell_type": "code",
   "execution_count": 985,
   "id": "5fa089e4",
   "metadata": {},
   "outputs": [],
   "source": [
    "# offer level dataframe\n",
    "conn = sqlite3.connect(':memory:')\n",
    "offer_txn.to_sql('offer_txn', conn, index=False)\n",
    "\n",
    "strsql='''\n",
    "  select a.person, a.offer_id, a.time as time,  \n",
    "       min(b.time) as view_time, \n",
    "       min(c.time) as complete_time,\n",
    "       case when min(b.time) is not null and min(c.time) is not null then 1 else 0 end as success_offer,\n",
    "       case when min(b.time) is not null then 1 else 0 end as viewed_offer\n",
    "from (select * from offer_txn where event = 'offer received') a\n",
    "left join (select * from offer_txn where event = 'offer viewed') b\n",
    "  on a.person = b.person\n",
    "  and a.offer_id = b.offer_id\n",
    "  and b.time >= a.time and b.time <= a.time + a.duration * 24\n",
    "left join (select * from offer_txn where event = 'offer completed') c\n",
    "  on a.person = c.person\n",
    "  and a.offer_id = c.offer_id\n",
    "  and c.time >= b.time and c.time <= a.time + a.duration * 24\n",
    "group by 1,2,3\n",
    "'''\n",
    "\n",
    "df_offer = pd.read_sql_query(strsql, conn)  "
   ]
  },
  {
   "cell_type": "code",
   "execution_count": 986,
   "id": "a05700a7",
   "metadata": {},
   "outputs": [
    {
     "data": {
      "text/plain": [
       "0    43093\n",
       "1    22492\n",
       "Name: success_offer, dtype: int64"
      ]
     },
     "execution_count": 986,
     "metadata": {},
     "output_type": "execute_result"
    }
   ],
   "source": [
    "df_offer.success_offer.value_counts() # completed offer"
   ]
  },
  {
   "cell_type": "code",
   "execution_count": 987,
   "id": "49b68ac7",
   "metadata": {},
   "outputs": [
    {
     "data": {
      "text/plain": [
       "1    48354\n",
       "0    17231\n",
       "Name: viewed_offer, dtype: int64"
      ]
     },
     "execution_count": 987,
     "metadata": {},
     "output_type": "execute_result"
    }
   ],
   "source": [
    "df_offer.viewed_offer.value_counts() # viewed offer"
   ]
  },
  {
   "cell_type": "markdown",
   "id": "56eacd57",
   "metadata": {},
   "source": [
    "### 2.1.2. Additional Feature"
   ]
  },
  {
   "cell_type": "code",
   "execution_count": 988,
   "id": "08a2bba7",
   "metadata": {},
   "outputs": [
    {
     "data": {
      "image/png": "[encoded data removed]",
      "text/plain": [
       "<Figure size 864x288 with 2 Axes>"
      ]
     },
     "metadata": {},
     "output_type": "display_data"
    }
   ],
   "source": [
    "ttl_exp = txn.groupby('person').agg({'amt': 'sum', 'time':['min','max']}).droplevel(level = 0, axis = 1).rename(columns = {'sum': 'total_exp', 'min': 'track_st', 'max': 'track_end'}).reset_index()\n",
    "ttl_exp['daily_exp'] = ttl_exp.total_exp/((ttl_exp.track_end - ttl_exp.track_st + 24)/24)\n",
    "\n",
    "\n",
    "fig, (ax1, ax2) = plt.subplots(1, 2,figsize = (12, 4))\n",
    "fig.suptitle('Customer Spending Distribution', fontsize = 15)\n",
    "\n",
    "sns.histplot(ax = ax1, data=ttl_exp[ttl_exp.daily_exp < 50], x = 'daily_exp', bins = 50)\n",
    "ax1.set_xlabel('Daily Spending')\n",
    "sns.histplot(ax = ax2, data=ttl_exp[ttl_exp.total_exp < 500], x = 'total_exp', bins = 50)\n",
    "ax2.set_xlabel('Total Spending')\n",
    "\n",
    "plt.show();"
   ]
  },
  {
   "cell_type": "markdown",
   "id": "2b12403d",
   "metadata": {},
   "source": [
    "## 2.2. Customer Age Validation"
   ]
  },
  {
   "cell_type": "code",
   "execution_count": 989,
   "id": "f815ac84",
   "metadata": {},
   "outputs": [
    {
     "data": {
      "image/png": "[encoded data removed]",
      "text/plain": [
       "<Figure size 432x288 with 1 Axes>"
      ]
     },
     "metadata": {},
     "output_type": "display_data"
    }
   ],
   "source": [
    "sns.histplot(data = profile_clean, x = \"age\", hue = \"gender\", multiple=\"dodge\", shrink=.9, bins = 15, palette = 'Set2');"
   ]
  },
  {
   "cell_type": "markdown",
   "id": "87661600",
   "metadata": {},
   "source": [
    "**Observation**\n",
    "* Majority of Starbuck customers have age from 40 to 70, with yongest at 20 and oldest at 100.\n",
    "* Within each age band, Starbucks is having more male customers then female, with minor exceptions in age band older than 80."
   ]
  },
  {
   "cell_type": "markdown",
   "id": "625908f3",
   "metadata": {},
   "source": [
    "## 2.3. What's Affecting Offer View/Completion Rates?"
   ]
  },
  {
   "cell_type": "markdown",
   "id": "20900b0b",
   "metadata": {},
   "source": [
    "### 2.3.1. Customer Features"
   ]
  },
  {
   "cell_type": "code",
   "execution_count": 990,
   "id": "963bd63a",
   "metadata": {},
   "outputs": [],
   "source": [
    "# customer level dataset\n",
    "# including customer features & offer viewed/completion\n",
    "\n",
    "df_cust = df_offer.groupby('person').agg({'person': 'count', 'viewed_offer': 'sum', 'success_offer': 'sum'}).rename(columns = {'person': 'total_offer', 'viewed_offer': 'n_viewed', 'success_offer': 'n_completed'})\n",
    "df_cust['view_rate'] = df_cust['n_viewed'] / df_cust['total_offer']\n",
    "df_cust['completed_rate'] = df_cust['n_completed'] / df_cust['n_viewed']\n",
    "\n",
    "df_cust2 = df_cust.merge(profile_clean, on = 'person', how = 'inner').merge(ttl_exp[['person','total_exp','daily_exp']], on = 'person', how = 'inner')\n",
    "\n",
    "df_cust2['age_grp'] = pd.cut(df_cust2.age, bins = [17,40,55,66,102], labels = [\"<40\", \"40-55\", \"56-66\", \">66\"])\n",
    "df_cust2['income_grp'] = pd.cut(df_cust2.income, bins = [20000, 50000, 65000, 80000, 130000], labels = [\"<50k\", \"50k-65k\", \"65k-80k\", \">80k\"])\n",
    "df_cust2['tenure_grp'] = pd.cut(df_cust2.tenure, bins = [0, 730, 1095, 1460, 3000], labels = [\"<2yr\", \"2yr-3yr\", \"3yr-4yr\",\">4yr\"])\n",
    "df_cust2['ttl_exp_grp'] = pd.cut(df_cust2.total_exp, bins = [0, 35, 90, 160, 3000], labels = [\"<$35\", \"$35-$90\", \"$90-$160\",\">$160\"])\n",
    "df_cust2['daily_exp_grp'] = pd.cut(df_cust2.daily_exp, bins = [0, 2, 5, 8, 200], labels = [\"<$2\", \"$2-$5\", \"$5-$8\",\">$8\"])"
   ]
  },
  {
   "cell_type": "code",
   "execution_count": 991,
   "id": "12d38137",
   "metadata": {},
   "outputs": [],
   "source": [
    "# dataset for plots\n",
    "melt_long = df_cust2.melt(id_vars = 'person', value_vars=['view_rate', 'completed_rate'], var_name = 'Rate_Type', value_name = 'Rate_Values')\n",
    "df_cust3 = melt_long.merge(df_cust2[[col for col in df_cust2.columns if col not in ('view_rate','completed_rate')]], on = 'person', how = 'left')\n"
   ]
  },
  {
   "cell_type": "code",
   "execution_count": 992,
   "id": "a6716d40",
   "metadata": {},
   "outputs": [
    {
     "data": {
      "image/png": "[encoded data removed]",
      "text/plain": [
       "<Figure size 1296x648 with 6 Axes>"
      ]
     },
     "metadata": {},
     "output_type": "display_data"
    }
   ],
   "source": [
    "fig = plt.figure(figsize = (18, 9))\n",
    "\n",
    "for i, col in enumerate(['age_grp','tenure_grp','gender','income_grp','ttl_exp_grp','daily_exp_grp']):\n",
    "    plt.subplot(2,3,i+1)\n",
    "    ax = sns.barplot(data = df_cust3, x = col, y = \"Rate_Values\", hue = \"Rate_Type\")\n",
    "    for container in ax.containers:\n",
    "        ax.bar_label(container, fmt=\"%.2f\", padding = 3)\n",
    "    ax.legend_.remove()\n",
    "\n",
    "handles, labels = ax.get_legend_handles_labels()\n",
    "fig.legend(handles, labels, loc = \"lower center\", bbox_to_anchor = (0.5,0.9))\n",
    "fig.suptitle('View/Completion Rate Exploration', fontsize = 15, y = 1)\n",
    "\n",
    "plt.show();\n"
   ]
  },
  {
   "cell_type": "markdown",
   "id": "a37f3c63",
   "metadata": {},
   "source": [
    "**Observation**\n",
    "* View rates are stable across different customers features/segments. That being said, chances of viewing the offers are comparable across customers.\n",
    "* Completion rates see significant differences across **all** customer features.\n",
    "* Total Dollar Spending and Daily Dollar Spending present similar trend again completion rates, with more dollar spending associated with higher offer completion rate. Later on we will pick Total Dollar Spending (`total_exp`) variable for modelling."
   ]
  },
  {
   "cell_type": "markdown",
   "id": "521d5791",
   "metadata": {},
   "source": [
    "### 2.3.2. Offer Features Exploration"
   ]
  },
  {
   "cell_type": "markdown",
   "id": "3a970a39",
   "metadata": {},
   "source": [
    "#### 2.3.2.1. View Rates"
   ]
  },
  {
   "cell_type": "code",
   "execution_count": 993,
   "id": "93aa0a6a",
   "metadata": {},
   "outputs": [
    {
     "data": {
      "text/html": [
       "<div>\n",
       "<style scoped>\n",
       "    .dataframe tbody tr th:only-of-type {\n",
       "        vertical-align: middle;\n",
       "    }\n",
       "\n",
       "    .dataframe tbody tr th {\n",
       "        vertical-align: top;\n",
       "    }\n",
       "\n",
       "    .dataframe thead th {\n",
       "        text-align: right;\n",
       "    }\n",
       "</style>\n",
       "<table border=\"1\" class=\"dataframe\">\n",
       "  <thead>\n",
       "    <tr style=\"text-align: right;\">\n",
       "      <th></th>\n",
       "      <th>channel</th>\n",
       "      <th>ttl</th>\n",
       "      <th>viewed</th>\n",
       "      <th>view_ratio</th>\n",
       "    </tr>\n",
       "  </thead>\n",
       "  <tbody>\n",
       "    <tr>\n",
       "      <th>0</th>\n",
       "      <td>email</td>\n",
       "      <td>65585</td>\n",
       "      <td>48354</td>\n",
       "      <td>0.737272</td>\n",
       "    </tr>\n",
       "    <tr>\n",
       "      <th>1</th>\n",
       "      <td>mobile</td>\n",
       "      <td>58958</td>\n",
       "      <td>46133</td>\n",
       "      <td>0.782472</td>\n",
       "    </tr>\n",
       "    <tr>\n",
       "      <th>2</th>\n",
       "      <td>social</td>\n",
       "      <td>39270</td>\n",
       "      <td>36193</td>\n",
       "      <td>0.921645</td>\n",
       "    </tr>\n",
       "    <tr>\n",
       "      <th>3</th>\n",
       "      <td>web</td>\n",
       "      <td>52451</td>\n",
       "      <td>37211</td>\n",
       "      <td>0.709443</td>\n",
       "    </tr>\n",
       "  </tbody>\n",
       "</table>\n",
       "</div>"
      ],
      "text/plain": [
       "  channel    ttl  viewed  view_ratio\n",
       "0   email  65585   48354    0.737272\n",
       "1  mobile  58958   46133    0.782472\n",
       "2  social  39270   36193    0.921645\n",
       "3     web  52451   37211    0.709443"
      ]
     },
     "execution_count": 993,
     "metadata": {},
     "output_type": "execute_result"
    }
   ],
   "source": [
    "# Only channel will affect view rates. Other offer features are not seen yet.\n",
    "df_offer_info = df_offer.merge(portfolio_c, how = 'left', on = \"offer_id\") \n",
    "channel_ttl = df_offer_info[['email','mobile','social','web']].sum(axis = 0)\n",
    "channel_viewed = df_offer_info[df_offer_info.viewed_offer == 1][['email','mobile','social','web']].sum(axis = 0)\n",
    "\n",
    "df_channel = pd.DataFrame({\"ttl\": channel_ttl, \"viewed\": channel_viewed}).reset_index().rename(columns={'index': 'channel'})\n",
    "df_channel['view_ratio'] = df_channel['viewed']/df_channel['ttl']\n",
    "df_channel"
   ]
  },
  {
   "cell_type": "code",
   "execution_count": 994,
   "id": "c73887fe",
   "metadata": {},
   "outputs": [
    {
     "data": {
      "image/png": "[encoded data removed]",
      "text/plain": [
       "<Figure size 576x288 with 1 Axes>"
      ]
     },
     "metadata": {},
     "output_type": "display_data"
    }
   ],
   "source": [
    "f, ax = plt.subplots(1, 1, figsize = (8, 4))\n",
    "f.suptitle('Offer View Rates by Channel', fontsize = 15)\n",
    "\n",
    "sns.set_color_codes(\"pastel\")\n",
    "sns.barplot(ax = ax, x = \"ttl\", y = \"channel\", data = df_channel, label = \"Sent\", color = \"b\")\n",
    "sns.set_color_codes(\"muted\")\n",
    "sns.barplot(ax = ax, x = \"viewed\", y = \"channel\", data = df_channel, label = \"Viewed\", color = \"b\")\n",
    "ax.legend(ncol = 2, loc = \"lower right\", frameon = True)\n",
    "ax.set(xlim = (0, 66000))\n",
    "ax.set_xlabel(\"Offer Volume\", fontsize = 15)\n",
    "ax.set_ylabel(\"Channel\", fontsize = 15)\n",
    "ax.set_xticklabels(ax.get_xticks(), size = 12)\n",
    "ax.set_yticklabels(ax.get_yticklabels(), size = 12)\n",
    "sns.despine(left = True, bottom = True)"
   ]
  },
  {
   "cell_type": "markdown",
   "id": "e85213f1",
   "metadata": {},
   "source": [
    "**Observation**\n",
    "\n",
    "Offers sent via social media are mostly viewed, with view rates ~90%. \n",
    "\n",
    "Other channels such as email, mobile, web see view rates around 70%."
   ]
  },
  {
   "cell_type": "markdown",
   "id": "6301750c",
   "metadata": {},
   "source": [
    "#### 2.3.2.2. Completion Rates"
   ]
  },
  {
   "cell_type": "code",
   "execution_count": 995,
   "id": "6ba080ba",
   "metadata": {},
   "outputs": [
    {
     "data": {
      "text/plain": [
       "web,email,mobile,social    26136\n",
       "web,email,mobile           19688\n",
       "email,mobile,social        13134\n",
       "web,email                   6627\n",
       "Name: channels, dtype: int64"
      ]
     },
     "execution_count": 995,
     "metadata": {},
     "output_type": "execute_result"
    }
   ],
   "source": [
    "df_offer_info.channels.value_counts(dropna=False)"
   ]
  },
  {
   "cell_type": "code",
   "execution_count": 996,
   "id": "90d3c0b9",
   "metadata": {},
   "outputs": [],
   "source": [
    "df_offer_info['channel'] = df_offer_info.channels.map({'web,email,mobile,social': 'WEMS', \n",
    "                                                       'web,email,mobile': 'WEM',\n",
    "                                                       'email,mobile,social': 'EMS',\n",
    "                                                       'web,email': 'WE'})"
   ]
  },
  {
   "cell_type": "code",
   "execution_count": 1054,
   "id": "ba14ae65",
   "metadata": {},
   "outputs": [
    {
     "data": {
      "image/png": "[encoded data removed]",
      "text/plain": [
       "<Figure size 1080x648 with 6 Axes>"
      ]
     },
     "metadata": {},
     "output_type": "display_data"
    }
   ],
   "source": [
    "# Compeltion Rates over offer features, \n",
    "# Only count on viewed offers.\n",
    "# Exclude informational offers.\n",
    " \n",
    "fig = plt.figure(figsize = (15, 9))\n",
    "sns.set_color_codes(\"pastel\")\n",
    "for i, col in enumerate(['offer_type', 'channel', 'reward', 'difficulty', 'duration','offer_id_short']):\n",
    "    plt.subplot(2,3,i+1)\n",
    "    ax = sns.barplot(data = df_offer_info[(df_offer_info.viewed_offer == 1)&(df_offer_info.offer_type.isin(['bogo','discount']))], x = col, y = 'success_offer', palette=sns.color_palette(\"Set2\"))\n",
    "    ax.set_ylabel(\"Completion Rate\")\n",
    "    ax.bar_label(ax.containers[0], fmt=\"%.2f\",padding = 3)\n",
    "\n",
    "fig.suptitle('Completion Rates over Offer Features (Viewed Offer Only)', fontsize = 15, y=0.95)\n",
    "plt.show();\n"
   ]
  },
  {
   "cell_type": "code",
   "execution_count": 1001,
   "id": "1ad9e50b",
   "metadata": {},
   "outputs": [
    {
     "data": {
      "text/html": [
       "<div>\n",
       "<style scoped>\n",
       "    .dataframe tbody tr th:only-of-type {\n",
       "        vertical-align: middle;\n",
       "    }\n",
       "\n",
       "    .dataframe tbody tr th {\n",
       "        vertical-align: top;\n",
       "    }\n",
       "\n",
       "    .dataframe thead th {\n",
       "        text-align: right;\n",
       "    }\n",
       "</style>\n",
       "<table border=\"1\" class=\"dataframe\">\n",
       "  <thead>\n",
       "    <tr style=\"text-align: right;\">\n",
       "      <th></th>\n",
       "      <th>offer_id_short</th>\n",
       "      <th>offer_type</th>\n",
       "      <th>reward</th>\n",
       "      <th>difficulty</th>\n",
       "      <th>duration</th>\n",
       "      <th>channels</th>\n",
       "    </tr>\n",
       "  </thead>\n",
       "  <tbody>\n",
       "    <tr>\n",
       "      <th>9</th>\n",
       "      <td>1</td>\n",
       "      <td>discount</td>\n",
       "      <td>2</td>\n",
       "      <td>10</td>\n",
       "      <td>7</td>\n",
       "      <td>web,email,mobile</td>\n",
       "    </tr>\n",
       "    <tr>\n",
       "      <th>4</th>\n",
       "      <td>10</td>\n",
       "      <td>discount</td>\n",
       "      <td>5</td>\n",
       "      <td>20</td>\n",
       "      <td>10</td>\n",
       "      <td>web,email</td>\n",
       "    </tr>\n",
       "    <tr>\n",
       "      <th>2</th>\n",
       "      <td>2</td>\n",
       "      <td>informational</td>\n",
       "      <td>0</td>\n",
       "      <td>0</td>\n",
       "      <td>4</td>\n",
       "      <td>web,email,mobile</td>\n",
       "    </tr>\n",
       "    <tr>\n",
       "      <th>7</th>\n",
       "      <td>3</td>\n",
       "      <td>informational</td>\n",
       "      <td>0</td>\n",
       "      <td>0</td>\n",
       "      <td>3</td>\n",
       "      <td>email,mobile,social</td>\n",
       "    </tr>\n",
       "    <tr>\n",
       "      <th>8</th>\n",
       "      <td>4</td>\n",
       "      <td>bogo</td>\n",
       "      <td>5</td>\n",
       "      <td>5</td>\n",
       "      <td>5</td>\n",
       "      <td>web,email,mobile,social</td>\n",
       "    </tr>\n",
       "    <tr>\n",
       "      <th>6</th>\n",
       "      <td>5</td>\n",
       "      <td>discount</td>\n",
       "      <td>2</td>\n",
       "      <td>10</td>\n",
       "      <td>10</td>\n",
       "      <td>web,email,mobile,social</td>\n",
       "    </tr>\n",
       "    <tr>\n",
       "      <th>1</th>\n",
       "      <td>6</td>\n",
       "      <td>bogo</td>\n",
       "      <td>10</td>\n",
       "      <td>10</td>\n",
       "      <td>5</td>\n",
       "      <td>web,email,mobile,social</td>\n",
       "    </tr>\n",
       "    <tr>\n",
       "      <th>0</th>\n",
       "      <td>7</td>\n",
       "      <td>bogo</td>\n",
       "      <td>10</td>\n",
       "      <td>10</td>\n",
       "      <td>7</td>\n",
       "      <td>email,mobile,social</td>\n",
       "    </tr>\n",
       "    <tr>\n",
       "      <th>5</th>\n",
       "      <td>8</td>\n",
       "      <td>discount</td>\n",
       "      <td>3</td>\n",
       "      <td>7</td>\n",
       "      <td>7</td>\n",
       "      <td>web,email,mobile,social</td>\n",
       "    </tr>\n",
       "    <tr>\n",
       "      <th>3</th>\n",
       "      <td>9</td>\n",
       "      <td>bogo</td>\n",
       "      <td>5</td>\n",
       "      <td>5</td>\n",
       "      <td>7</td>\n",
       "      <td>web,email,mobile</td>\n",
       "    </tr>\n",
       "  </tbody>\n",
       "</table>\n",
       "</div>"
      ],
      "text/plain": [
       "  offer_id_short     offer_type  reward  difficulty  duration  \\\n",
       "9              1       discount       2          10         7   \n",
       "4             10       discount       5          20        10   \n",
       "2              2  informational       0           0         4   \n",
       "7              3  informational       0           0         3   \n",
       "8              4           bogo       5           5         5   \n",
       "6              5       discount       2          10        10   \n",
       "1              6           bogo      10          10         5   \n",
       "0              7           bogo      10          10         7   \n",
       "5              8       discount       3           7         7   \n",
       "3              9           bogo       5           5         7   \n",
       "\n",
       "                  channels  \n",
       "9         web,email,mobile  \n",
       "4                web,email  \n",
       "2         web,email,mobile  \n",
       "7      email,mobile,social  \n",
       "8  web,email,mobile,social  \n",
       "6  web,email,mobile,social  \n",
       "1  web,email,mobile,social  \n",
       "0      email,mobile,social  \n",
       "5  web,email,mobile,social  \n",
       "3         web,email,mobile  "
      ]
     },
     "execution_count": 1001,
     "metadata": {},
     "output_type": "execute_result"
    }
   ],
   "source": [
    "portfolio_c[['offer_id_short','offer_type', 'reward', 'difficulty','duration','channels']].sort_values(by = 'offer_id_short')"
   ]
  },
  {
   "cell_type": "markdown",
   "metadata": {},
   "source": [
    "**Observation**\n",
    "* Most successful offers in terms of completion rates are: \n",
    "  > offer 5: 69% completion rate\n",
    "  >\n",
    "  > offer 8: 65% completion rate \n",
    "\n",
    "* Discount offers are more successful than BOGO offers.\n",
    "* Offer 2 and Offer 3 are informational only, therefore no completion at all. Therefore in modelling part, we will remove observations from these 2 offer ids.\n",
    "* In general, completion rate differences across offer features are heavily associated with offer itself. \n",
    "\n",
    "  For example, by plots offer with duration of 10 days are more likely to succeed, however this could also be explained by the fact that the most successful offer (offer 5) has 10 days duration.\n",
    " "
   ]
  },
  {
   "cell_type": "markdown",
   "id": "7ac9beb4",
   "metadata": {},
   "source": [
    "## 3. Modelling\n",
    "### 3.1. Get Design Matrix"
   ]
  },
  {
   "cell_type": "code",
   "execution_count": 897,
   "id": "3bfad444",
   "metadata": {},
   "outputs": [],
   "source": [
    "df_view = df_offer.merge(portfolio_c, how = 'left', on = \"offer_id\").merge(profile_clean, on = 'person', how = 'inner').merge(ttl_exp[['person','total_exp','daily_exp']], on = 'person', how = 'inner')\n",
    "\n",
    "var_select = ['success_offer', 'viewed_offer', 'reward', 'channels', 'difficulty','duration', 'offer_type','gender', 'age', 'income', 'tenure', 'total_exp']\n",
    "df_model = df_view[df_view.offer_type.isin(['bogo','discount'])][var_select+['person']].set_index('person')"
   ]
  },
  {
   "cell_type": "code",
   "execution_count": 898,
   "id": "b1cdd481",
   "metadata": {},
   "outputs": [
    {
     "data": {
      "text/plain": [
       "(51309, 12)"
      ]
     },
     "execution_count": 898,
     "metadata": {},
     "output_type": "execute_result"
    }
   ],
   "source": [
    "df_model.shape"
   ]
  },
  {
   "cell_type": "code",
   "execution_count": 900,
   "id": "f94dd4fd",
   "metadata": {},
   "outputs": [
    {
     "name": "stdout",
     "output_type": "stream",
     "text": [
      "['viewed_offer', 'reward', 'channels', 'difficulty', 'duration', 'offer_type', 'gender', 'age', 'income', 'tenure', 'total_exp']\n"
     ]
    }
   ],
   "source": [
    "feature = [var for var in var_select if var != 'success_offer']\n",
    "print(feature)\n",
    "X = df_model[feature]\n",
    "Y = df_model['success_offer']"
   ]
  },
  {
   "cell_type": "code",
   "execution_count": 901,
   "id": "70bb474d",
   "metadata": {},
   "outputs": [
    {
     "data": {
      "text/plain": [
       "0    28817\n",
       "1    22492\n",
       "Name: success_offer, dtype: int64"
      ]
     },
     "execution_count": 901,
     "metadata": {},
     "output_type": "execute_result"
    }
   ],
   "source": [
    "Y.value_counts() # balanced"
   ]
  },
  {
   "cell_type": "code",
   "execution_count": 902,
   "id": "57f16c4d",
   "metadata": {},
   "outputs": [
    {
     "data": {
      "text/html": [
       "<div>\n",
       "<style scoped>\n",
       "    .dataframe tbody tr th:only-of-type {\n",
       "        vertical-align: middle;\n",
       "    }\n",
       "\n",
       "    .dataframe tbody tr th {\n",
       "        vertical-align: top;\n",
       "    }\n",
       "\n",
       "    .dataframe thead th {\n",
       "        text-align: right;\n",
       "    }\n",
       "</style>\n",
       "<table border=\"1\" class=\"dataframe\">\n",
       "  <thead>\n",
       "    <tr style=\"text-align: right;\">\n",
       "      <th></th>\n",
       "      <th>viewed_offer</th>\n",
       "      <th>reward</th>\n",
       "      <th>channels</th>\n",
       "      <th>difficulty</th>\n",
       "      <th>duration</th>\n",
       "      <th>offer_type</th>\n",
       "      <th>gender</th>\n",
       "      <th>age</th>\n",
       "      <th>income</th>\n",
       "      <th>tenure</th>\n",
       "      <th>total_exp</th>\n",
       "    </tr>\n",
       "    <tr>\n",
       "      <th>person</th>\n",
       "      <th></th>\n",
       "      <th></th>\n",
       "      <th></th>\n",
       "      <th></th>\n",
       "      <th></th>\n",
       "      <th></th>\n",
       "      <th></th>\n",
       "      <th></th>\n",
       "      <th></th>\n",
       "      <th></th>\n",
       "      <th></th>\n",
       "    </tr>\n",
       "  </thead>\n",
       "  <tbody>\n",
       "    <tr>\n",
       "      <th>0009655768c64bdeb2e877511632db8f</th>\n",
       "      <td>0</td>\n",
       "      <td>2</td>\n",
       "      <td>web,email,mobile</td>\n",
       "      <td>10</td>\n",
       "      <td>7</td>\n",
       "      <td>discount</td>\n",
       "      <td>M</td>\n",
       "      <td>33</td>\n",
       "      <td>72000.0</td>\n",
       "      <td>985</td>\n",
       "      <td>127.6</td>\n",
       "    </tr>\n",
       "    <tr>\n",
       "      <th>0009655768c64bdeb2e877511632db8f</th>\n",
       "      <td>1</td>\n",
       "      <td>5</td>\n",
       "      <td>web,email,mobile,social</td>\n",
       "      <td>5</td>\n",
       "      <td>5</td>\n",
       "      <td>bogo</td>\n",
       "      <td>M</td>\n",
       "      <td>33</td>\n",
       "      <td>72000.0</td>\n",
       "      <td>985</td>\n",
       "      <td>127.6</td>\n",
       "    </tr>\n",
       "    <tr>\n",
       "      <th>0009655768c64bdeb2e877511632db8f</th>\n",
       "      <td>1</td>\n",
       "      <td>2</td>\n",
       "      <td>web,email,mobile,social</td>\n",
       "      <td>10</td>\n",
       "      <td>10</td>\n",
       "      <td>discount</td>\n",
       "      <td>M</td>\n",
       "      <td>33</td>\n",
       "      <td>72000.0</td>\n",
       "      <td>985</td>\n",
       "      <td>127.6</td>\n",
       "    </tr>\n",
       "  </tbody>\n",
       "</table>\n",
       "</div>"
      ],
      "text/plain": [
       "                                  viewed_offer  reward  \\\n",
       "person                                                   \n",
       "0009655768c64bdeb2e877511632db8f             0       2   \n",
       "0009655768c64bdeb2e877511632db8f             1       5   \n",
       "0009655768c64bdeb2e877511632db8f             1       2   \n",
       "\n",
       "                                                 channels  difficulty  \\\n",
       "person                                                                  \n",
       "0009655768c64bdeb2e877511632db8f         web,email,mobile          10   \n",
       "0009655768c64bdeb2e877511632db8f  web,email,mobile,social           5   \n",
       "0009655768c64bdeb2e877511632db8f  web,email,mobile,social          10   \n",
       "\n",
       "                                  duration offer_type gender  age   income  \\\n",
       "person                                                                       \n",
       "0009655768c64bdeb2e877511632db8f         7   discount      M   33  72000.0   \n",
       "0009655768c64bdeb2e877511632db8f         5       bogo      M   33  72000.0   \n",
       "0009655768c64bdeb2e877511632db8f        10   discount      M   33  72000.0   \n",
       "\n",
       "                                  tenure  total_exp  \n",
       "person                                               \n",
       "0009655768c64bdeb2e877511632db8f     985      127.6  \n",
       "0009655768c64bdeb2e877511632db8f     985      127.6  \n",
       "0009655768c64bdeb2e877511632db8f     985      127.6  "
      ]
     },
     "execution_count": 902,
     "metadata": {},
     "output_type": "execute_result"
    }
   ],
   "source": [
    "X.head(3)"
   ]
  },
  {
   "cell_type": "markdown",
   "id": "2abbfce8",
   "metadata": {},
   "source": [
    "### 3.2. Correlation Detection"
   ]
  },
  {
   "cell_type": "code",
   "execution_count": 903,
   "id": "d22e3760",
   "metadata": {},
   "outputs": [],
   "source": [
    "# temporary dataset to factorize categorical variables for correlation plot\n",
    "X_2 = pd.concat([X[[col for col in X.columns if col not in ('offer_type', 'gender', 'channels')]], X[['offer_type', 'gender','channels']].apply(lambda x: pd.factorize(x)[0])], axis = 1)"
   ]
  },
  {
   "cell_type": "code",
   "execution_count": 904,
   "id": "7c3bc52e",
   "metadata": {},
   "outputs": [
    {
     "data": {
      "text/html": [
       "<div>\n",
       "<style scoped>\n",
       "    .dataframe tbody tr th:only-of-type {\n",
       "        vertical-align: middle;\n",
       "    }\n",
       "\n",
       "    .dataframe tbody tr th {\n",
       "        vertical-align: top;\n",
       "    }\n",
       "\n",
       "    .dataframe thead th {\n",
       "        text-align: right;\n",
       "    }\n",
       "</style>\n",
       "<table border=\"1\" class=\"dataframe\">\n",
       "  <thead>\n",
       "    <tr style=\"text-align: right;\">\n",
       "      <th></th>\n",
       "      <th>viewed_offer</th>\n",
       "      <th>reward</th>\n",
       "      <th>difficulty</th>\n",
       "      <th>duration</th>\n",
       "      <th>age</th>\n",
       "      <th>income</th>\n",
       "      <th>tenure</th>\n",
       "      <th>total_exp</th>\n",
       "      <th>offer_type</th>\n",
       "      <th>gender</th>\n",
       "      <th>channels</th>\n",
       "    </tr>\n",
       "    <tr>\n",
       "      <th>person</th>\n",
       "      <th></th>\n",
       "      <th></th>\n",
       "      <th></th>\n",
       "      <th></th>\n",
       "      <th></th>\n",
       "      <th></th>\n",
       "      <th></th>\n",
       "      <th></th>\n",
       "      <th></th>\n",
       "      <th></th>\n",
       "      <th></th>\n",
       "    </tr>\n",
       "  </thead>\n",
       "  <tbody>\n",
       "    <tr>\n",
       "      <th>0009655768c64bdeb2e877511632db8f</th>\n",
       "      <td>0</td>\n",
       "      <td>2</td>\n",
       "      <td>10</td>\n",
       "      <td>7</td>\n",
       "      <td>33</td>\n",
       "      <td>72000.0</td>\n",
       "      <td>985</td>\n",
       "      <td>127.60</td>\n",
       "      <td>0</td>\n",
       "      <td>0</td>\n",
       "      <td>0</td>\n",
       "    </tr>\n",
       "    <tr>\n",
       "      <th>0009655768c64bdeb2e877511632db8f</th>\n",
       "      <td>1</td>\n",
       "      <td>5</td>\n",
       "      <td>5</td>\n",
       "      <td>5</td>\n",
       "      <td>33</td>\n",
       "      <td>72000.0</td>\n",
       "      <td>985</td>\n",
       "      <td>127.60</td>\n",
       "      <td>1</td>\n",
       "      <td>0</td>\n",
       "      <td>1</td>\n",
       "    </tr>\n",
       "    <tr>\n",
       "      <th>0009655768c64bdeb2e877511632db8f</th>\n",
       "      <td>1</td>\n",
       "      <td>2</td>\n",
       "      <td>10</td>\n",
       "      <td>10</td>\n",
       "      <td>33</td>\n",
       "      <td>72000.0</td>\n",
       "      <td>985</td>\n",
       "      <td>127.60</td>\n",
       "      <td>0</td>\n",
       "      <td>0</td>\n",
       "      <td>1</td>\n",
       "    </tr>\n",
       "    <tr>\n",
       "      <th>0020c2b971eb4e9188eac86d93036a77</th>\n",
       "      <td>1</td>\n",
       "      <td>10</td>\n",
       "      <td>10</td>\n",
       "      <td>5</td>\n",
       "      <td>59</td>\n",
       "      <td>90000.0</td>\n",
       "      <td>1398</td>\n",
       "      <td>196.86</td>\n",
       "      <td>1</td>\n",
       "      <td>1</td>\n",
       "      <td>1</td>\n",
       "    </tr>\n",
       "    <tr>\n",
       "      <th>0020c2b971eb4e9188eac86d93036a77</th>\n",
       "      <td>0</td>\n",
       "      <td>10</td>\n",
       "      <td>10</td>\n",
       "      <td>7</td>\n",
       "      <td>59</td>\n",
       "      <td>90000.0</td>\n",
       "      <td>1398</td>\n",
       "      <td>196.86</td>\n",
       "      <td>1</td>\n",
       "      <td>1</td>\n",
       "      <td>2</td>\n",
       "    </tr>\n",
       "  </tbody>\n",
       "</table>\n",
       "</div>"
      ],
      "text/plain": [
       "                                  viewed_offer  reward  difficulty  duration  \\\n",
       "person                                                                         \n",
       "0009655768c64bdeb2e877511632db8f             0       2          10         7   \n",
       "0009655768c64bdeb2e877511632db8f             1       5           5         5   \n",
       "0009655768c64bdeb2e877511632db8f             1       2          10        10   \n",
       "0020c2b971eb4e9188eac86d93036a77             1      10          10         5   \n",
       "0020c2b971eb4e9188eac86d93036a77             0      10          10         7   \n",
       "\n",
       "                                  age   income  tenure  total_exp  offer_type  \\\n",
       "person                                                                          \n",
       "0009655768c64bdeb2e877511632db8f   33  72000.0     985     127.60           0   \n",
       "0009655768c64bdeb2e877511632db8f   33  72000.0     985     127.60           1   \n",
       "0009655768c64bdeb2e877511632db8f   33  72000.0     985     127.60           0   \n",
       "0020c2b971eb4e9188eac86d93036a77   59  90000.0    1398     196.86           1   \n",
       "0020c2b971eb4e9188eac86d93036a77   59  90000.0    1398     196.86           1   \n",
       "\n",
       "                                  gender  channels  \n",
       "person                                              \n",
       "0009655768c64bdeb2e877511632db8f       0         0  \n",
       "0009655768c64bdeb2e877511632db8f       0         1  \n",
       "0009655768c64bdeb2e877511632db8f       0         1  \n",
       "0020c2b971eb4e9188eac86d93036a77       1         1  \n",
       "0020c2b971eb4e9188eac86d93036a77       1         2  "
      ]
     },
     "execution_count": 904,
     "metadata": {},
     "output_type": "execute_result"
    }
   ],
   "source": [
    "X_2.head()"
   ]
  },
  {
   "cell_type": "code",
   "execution_count": 1006,
   "id": "d5492b9f",
   "metadata": {},
   "outputs": [
    {
     "data": {
      "image/png": "[encoded data removed]",
      "text/plain": [
       "<Figure size 720x576 with 2 Axes>"
      ]
     },
     "metadata": {},
     "output_type": "display_data"
    }
   ],
   "source": [
    "corrs = X_2.corr()\n",
    "mask = np.zeros_like(corrs)\n",
    "mask[np.triu_indices_from(mask)] = True\n",
    "\n",
    "with sns.axes_style(\"white\"):\n",
    "    f, ax = plt.subplots(figsize=(10, 8))\n",
    "    ax = sns.heatmap(corrs, annot = True, mask = mask, fmt = '.2f',cmap='Blues')\n",
    "    ax.tick_params(labelsize=13)\n",
    "    ax.set_title('Variables Correlation Matrix', size = 15);"
   ]
  },
  {
   "cell_type": "markdown",
   "id": "f14bce86",
   "metadata": {},
   "source": [
    "**Observation**\n",
    "\n",
    "Similar to what's been obseved from 2.3.2.2, offer features are highly correlated with each other, as they are mainly determined by offer_id itself.\n",
    "\n",
    "1. Variable `offer_type` is highly correlated with `duration`, `reward` and `difficulty`.\n",
    "2. Variable `duration` is highly correlated with `reward` and `difficulty`.\n",
    "3. Variable `channels` is highly correlated with `duration`, `reward` and `difficulty`.\n",
    "\n",
    "To eliminate correlation issues for Logistic regression, remove `offer_type`, `channels`, `duration`."
   ]
  },
  {
   "cell_type": "code",
   "execution_count": 1005,
   "id": "839f0fc9",
   "metadata": {},
   "outputs": [
    {
     "data": {
      "image/png": "[encoded data removed]",
      "text/plain": [
       "<Figure size 432x288 with 2 Axes>"
      ]
     },
     "metadata": {},
     "output_type": "display_data"
    }
   ],
   "source": [
    "# Correlation Matrix after variable elimination\n",
    "corrs_tmp = X_2[[col for col in X_2.columns if col not in ('offer_type', 'channels', 'duration')]].corr()\n",
    "mask = np.zeros_like(corrs_tmp)\n",
    "mask[np.triu_indices_from(mask)] = True\n",
    "\n",
    "with sns.axes_style(\"white\"):\n",
    "    f, ax = plt.subplots()\n",
    "    ax = sns.heatmap(corrs_tmp, annot = True, mask = mask,fmt = '.2f',cmap='Blues')\n",
    "    ax.tick_params(labelsize=13)\n",
    "    ax.set_title('Variables Correlation Matrix - After Var Elimination', size = 15);\n"
   ]
  },
  {
   "cell_type": "markdown",
   "id": "7602efce",
   "metadata": {},
   "source": [
    "### 3.3. Train Test Split"
   ]
  },
  {
   "cell_type": "code",
   "execution_count": 907,
   "id": "969a005a",
   "metadata": {},
   "outputs": [],
   "source": [
    "X_train, X_test, y_train, y_test = train_test_split(X, Y, stratify = Y, random_state = 20)\n"
   ]
  },
  {
   "cell_type": "code",
   "execution_count": 1007,
   "id": "e7a47cfe",
   "metadata": {},
   "outputs": [
    {
     "name": "stdout",
     "output_type": "stream",
     "text": [
      "Index(['viewed_offer', 'reward', 'channels', 'difficulty', 'duration',\n",
      "       'offer_type', 'gender', 'age', 'income', 'tenure', 'total_exp'],\n",
      "      dtype='object')\n"
     ]
    }
   ],
   "source": [
    "print(X_train.columns)"
   ]
  },
  {
   "cell_type": "markdown",
   "id": "9376fc1f",
   "metadata": {},
   "source": [
    "### 3.4. Build Model Pipelines\n",
    "#### 3.4.1. Build Pre-processor (Imputing, Encoding, Scaling)"
   ]
  },
  {
   "cell_type": "code",
   "execution_count": 1024,
   "id": "13b17b75",
   "metadata": {},
   "outputs": [],
   "source": [
    "# Pipeline Settings for ML algorithms\n",
    "\n",
    "numeric_features = ['viewed_offer', 'reward', 'difficulty','duration','age','income','tenure', 'total_exp']\n",
    "categorical_features = ['channels','offer_type','gender']\n",
    "\n",
    "numeric_transformer = Pipeline(steps = [\n",
    "       ('imputer', SimpleImputer(strategy='mean'))\n",
    "      ,('scaler', StandardScaler())\n",
    "])\n",
    "categorical_transformer = Pipeline(steps = [\n",
    "       ('imputer', SimpleImputer(strategy='constant'))\n",
    "       ,('encoder', OneHotEncoder(handle_unknown = 'ignore'))\n",
    "])\n",
    "\n",
    "preprocessor = ColumnTransformer(transformers = [\n",
    "    ('numeric', numeric_transformer, numeric_features)\n",
    "   ,('categorical', categorical_transformer, categorical_features)\n",
    "]) \n",
    "\n",
    "#  Settings for Logistic. Drop correlated variables, change OneHotEncoder.\n",
    "\n",
    "numeric_features_2 = ['viewed_offer', 'reward', 'difficulty','age','income','tenure', 'total_exp']\n",
    "categorical_features_2 = ['gender']\n",
    "\n",
    "\n",
    "categorical_transformer2 = Pipeline(steps = [\n",
    "       ('imputer', SimpleImputer(strategy='constant'))\n",
    "       ,('encoder', OneHotEncoder(drop='first'))\n",
    "])\n",
    "\n",
    "preprocessor2 = ColumnTransformer(transformers = [\n",
    "    ('numeric', numeric_transformer, numeric_features_2)\n",
    "   ,('categorical', categorical_transformer2, categorical_features_2)\n",
    "]) \n",
    "\n",
    "\n",
    "# Functions for model performance matrices\n",
    "def Get_Performance(y_test, y_pred):\n",
    "    \"\"\"\n",
    "    Calculate Classification Model Performance Matrices\n",
    "    \n",
    "    Input:\n",
    "    y_test: A pd series of test response variable\n",
    "    y_pred: A pd series of response variable predicted by the model\n",
    "\n",
    "    Output:\n",
    "    A pd DataFrame containing model testing AUC, F1 score, Precision, Recall and Accuracy. \n",
    "    \"\"\"\n",
    "    roc_value = roc_auc_score(y_test, y_pred)\n",
    "    f1_scorevalue = f1_score(y_test, y_pred, labels = None, pos_label=1, average='weighted')\n",
    "    rec = recall_score(y_test, y_pred,pos_label=1)\n",
    "    prec = precision_score(y_test, y_pred, pos_label=1)\n",
    "    acc = accuracy_score(y_test, y_pred)\n",
    "    \n",
    "    return pd.DataFrame({'Testing AUC': [roc_value], 'F1 Score': [f1_scorevalue], 'Precision': [prec], 'Recall': [rec], 'Accuracy': [acc]})\n",
    "    #print(f''' Performance\\n Testing AUC: {roc_value}\\n F1 Score: {f1_scorevalue}\\n Precision: {prec}\\n Recall: {rec}\\n Accuracy: {acc}''')"
   ]
  },
  {
   "cell_type": "markdown",
   "id": "7d048481",
   "metadata": {},
   "source": [
    "#### 3.4.2. Build Classifier"
   ]
  },
  {
   "cell_type": "markdown",
   "id": "65148a49",
   "metadata": {},
   "source": [
    "##### 3.4.2.1. Logistic Regression Model"
   ]
  },
  {
   "cell_type": "code",
   "execution_count": 913,
   "id": "c71e8fba",
   "metadata": {},
   "outputs": [],
   "source": [
    "X_train_2 = X_train[[col for col in X_train.columns if col not in ('offer_type', 'channels', 'duration')]]\n",
    "X_test_2 = X_test[[col for col in X_test.columns if col not in ('offer_type', 'channels', 'duration')]]"
   ]
  },
  {
   "cell_type": "code",
   "execution_count": null,
   "id": "6bcd6ffc",
   "metadata": {},
   "outputs": [],
   "source": [
    "pipeline_logit = Pipeline(steps = [\n",
    "               ('preprocessor', preprocessor2)\n",
    "              ,('clf', LogisticRegression(random_state = 10))\n",
    "           ])\n",
    "pipeline_logit.fit(X_train_2, y_train)"
   ]
  },
  {
   "cell_type": "code",
   "execution_count": 1025,
   "id": "ca53e7a7",
   "metadata": {},
   "outputs": [
    {
     "name": "stdout",
     "output_type": "stream",
     "text": [
      "   Testing AUC  F1 Score  Precision    Recall  Accuracy\n",
      "0     0.787963  0.787466     0.7375  0.797439  0.786795\n"
     ]
    }
   ],
   "source": [
    "perm_logit = Get_Performance(y_test, pipeline_logit.predict(X_test_2))\n",
    "print(perm_logit)"
   ]
  },
  {
   "cell_type": "code",
   "execution_count": 1018,
   "id": "a7b4a37d",
   "metadata": {},
   "outputs": [
    {
     "data": {
      "text/plain": [
       "array([[ 4.68544353, -0.39604147,  0.01353876,  0.04236219,  0.08752394,\n",
       "         0.27338167,  0.97814781, -0.24633679]])"
      ]
     },
     "execution_count": 1018,
     "metadata": {},
     "output_type": "execute_result"
    }
   ],
   "source": [
    "pipeline_logit.steps[1][1].coef_"
   ]
  },
  {
   "cell_type": "markdown",
   "id": "65148a49",
   "metadata": {},
   "source": [
    "##### 3.4.2.2. Random Forest Classifier"
   ]
  },
  {
   "cell_type": "code",
   "execution_count": 910,
   "id": "b0806a7b",
   "metadata": {},
   "outputs": [
    {
     "data": {
      "text/plain": [
       "{'clf__max_features': 'sqrt', 'clf__n_estimators': 300}"
      ]
     },
     "execution_count": 910,
     "metadata": {},
     "output_type": "execute_result"
    }
   ],
   "source": [
    "# Parameters Tunning\n",
    "pipeline = Pipeline(steps = [\n",
    "               ('preprocessor', preprocessor)\n",
    "              ,('clf', RandomForestClassifier())\n",
    "           ])\n",
    "\n",
    "parameters = {\n",
    "    'clf__n_estimators': [100,200,300]\n",
    "    , 'clf__max_features': [\"sqrt\", \"log2\"]\n",
    "}\n",
    "\n",
    "CV = GridSearchCV(pipeline, param_grid = parameters)\n",
    "CV.fit(X_train, y_train)\n",
    "CV.best_params_"
   ]
  },
  {
   "cell_type": "code",
   "execution_count": null,
   "id": "4ba02d8b",
   "metadata": {},
   "outputs": [],
   "source": [
    "pipeline_rf = Pipeline(steps = [\n",
    "               ('preprocessor', preprocessor)\n",
    "              ,('clf', RandomForestClassifier(n_estimators = 300, max_features = 'sqrt', random_state = 10))\n",
    "           ])\n",
    "pipeline_rf.fit(X_train, y_train)"
   ]
  },
  {
   "cell_type": "code",
   "execution_count": 1026,
   "id": "0741696c",
   "metadata": {},
   "outputs": [
    {
     "name": "stdout",
     "output_type": "stream",
     "text": [
      "   Testing AUC  F1 Score  Precision    Recall  Accuracy\n",
      "0     0.792214  0.790062   0.733376  0.815935  0.789289\n"
     ]
    }
   ],
   "source": [
    "perm_rf = Get_Performance(y_test, pipeline_rf.predict(X_test))\n",
    "print(perm_rf)"
   ]
  },
  {
   "cell_type": "markdown",
   "id": "65148a49",
   "metadata": {},
   "source": [
    "##### 3.4.2.3. Gradient Boosting Classifier"
   ]
  },
  {
   "cell_type": "code",
   "execution_count": 922,
   "id": "5fec1e4f",
   "metadata": {},
   "outputs": [
    {
     "data": {
      "text/plain": [
       "{'clf__max_depth': 4, 'clf__n_estimators': 100}"
      ]
     },
     "execution_count": 922,
     "metadata": {},
     "output_type": "execute_result"
    }
   ],
   "source": [
    "# Parameters Tunning\n",
    "pipeline = Pipeline(steps = [\n",
    "               ('preprocessor', preprocessor)\n",
    "              ,('clf', GradientBoostingClassifier())\n",
    "           ])\n",
    "# pipeline.get_params()\n",
    "parameters = {\n",
    "     'clf__max_depth': [1,2,3,4]\n",
    "    , 'clf__n_estimators': [100,200,300]\n",
    "}\n",
    "\n",
    "CV = GridSearchCV(pipeline, param_grid = parameters)\n",
    "CV.fit(X_train, y_train)\n",
    "CV.best_params_"
   ]
  },
  {
   "cell_type": "code",
   "execution_count": null,
   "id": "63c79739",
   "metadata": {},
   "outputs": [],
   "source": [
    "pipeline_gb = Pipeline(steps = [\n",
    "               ('preprocessor', preprocessor)\n",
    "              ,('clf', GradientBoostingClassifier(n_estimators = 100, max_depth = 4, random_state = 10))\n",
    "           ])\n",
    "pipeline_gb.fit(X_train, y_train)"
   ]
  },
  {
   "cell_type": "code",
   "execution_count": 1027,
   "id": "94e74890",
   "metadata": {},
   "outputs": [
    {
     "name": "stdout",
     "output_type": "stream",
     "text": [
      "   Testing AUC  F1 Score  Precision    Recall  Accuracy\n",
      "0     0.819986  0.812734   0.738885  0.883692   0.81213\n"
     ]
    }
   ],
   "source": [
    "perm_gb = Get_Performance(y_test, pipeline_gb.predict(X_test))\n",
    "print(perm_gb)"
   ]
  },
  {
   "cell_type": "markdown",
   "id": "37f6c03e",
   "metadata": {},
   "source": [
    "# 4. Model Evaluation & Conclustion\n",
    "## 4.1. Model Metrices "
   ]
  },
  {
   "cell_type": "code",
   "execution_count": 1029,
   "id": "e5274b45",
   "metadata": {},
   "outputs": [
    {
     "data": {
      "text/html": [
       "<div>\n",
       "<style scoped>\n",
       "    .dataframe tbody tr th:only-of-type {\n",
       "        vertical-align: middle;\n",
       "    }\n",
       "\n",
       "    .dataframe tbody tr th {\n",
       "        vertical-align: top;\n",
       "    }\n",
       "\n",
       "    .dataframe thead th {\n",
       "        text-align: right;\n",
       "    }\n",
       "</style>\n",
       "<table border=\"1\" class=\"dataframe\">\n",
       "  <thead>\n",
       "    <tr style=\"text-align: right;\">\n",
       "      <th></th>\n",
       "      <th>Testing AUC</th>\n",
       "      <th>F1 Score</th>\n",
       "      <th>Precision</th>\n",
       "      <th>Recall</th>\n",
       "      <th>Accuracy</th>\n",
       "    </tr>\n",
       "    <tr>\n",
       "      <th>Model</th>\n",
       "      <th></th>\n",
       "      <th></th>\n",
       "      <th></th>\n",
       "      <th></th>\n",
       "      <th></th>\n",
       "    </tr>\n",
       "  </thead>\n",
       "  <tbody>\n",
       "    <tr>\n",
       "      <th>Logistic</th>\n",
       "      <td>0.787963</td>\n",
       "      <td>0.787466</td>\n",
       "      <td>0.737500</td>\n",
       "      <td>0.797439</td>\n",
       "      <td>0.786795</td>\n",
       "    </tr>\n",
       "    <tr>\n",
       "      <th>Random Forest</th>\n",
       "      <td>0.792214</td>\n",
       "      <td>0.790062</td>\n",
       "      <td>0.733376</td>\n",
       "      <td>0.815935</td>\n",
       "      <td>0.789289</td>\n",
       "    </tr>\n",
       "    <tr>\n",
       "      <th>Gradient Boosting</th>\n",
       "      <td>0.819986</td>\n",
       "      <td>0.812734</td>\n",
       "      <td>0.738885</td>\n",
       "      <td>0.883692</td>\n",
       "      <td>0.812130</td>\n",
       "    </tr>\n",
       "  </tbody>\n",
       "</table>\n",
       "</div>"
      ],
      "text/plain": [
       "                   Testing AUC  F1 Score  Precision    Recall  Accuracy\n",
       "Model                                                                  \n",
       "Logistic              0.787963  0.787466   0.737500  0.797439  0.786795\n",
       "Random Forest         0.792214  0.790062   0.733376  0.815935  0.789289\n",
       "Gradient Boosting     0.819986  0.812734   0.738885  0.883692  0.812130"
      ]
     },
     "execution_count": 1029,
     "metadata": {},
     "output_type": "execute_result"
    }
   ],
   "source": [
    "all_perm = pd.concat([perm_logit, perm_rf, perm_gb])\n",
    "all_perm['Model'] = ['Logistic', 'Random Forest', 'Gradient Boosting']\n",
    "all_perm.set_index('Model', inplace=True)\n",
    "all_perm"
   ]
  },
  {
   "cell_type": "markdown",
   "id": "f513b7dd",
   "metadata": {},
   "source": [
    "For this study, `Accuracy` and `Recall` are preferred metrics for model performance. \n",
    "\n",
    "The consideration of picking `Recall` over `Precision` is that in production sense we would like to capture as many true positiives as possible to **increase coffee offer engagement**. On the other hand, getting many false positives (low precision) is less of a concern, since sending offer is almost free & it would not hurt business.\n",
    "\n",
    "Based on `Accuracy` and `Recall` , it is clear that both Ramdom Forest Model and Gradient Boosting Model are performing well. We can rely on these 2 models to dig feature insights."
   ]
  },
  {
   "cell_type": "markdown",
   "id": "61f8e9cf",
   "metadata": {},
   "source": [
    "## 4.2. Feature Insights"
   ]
  },
  {
   "cell_type": "code",
   "execution_count": 1047,
   "id": "6dd19a6e",
   "metadata": {},
   "outputs": [
    {
     "data": {
      "image/png": "[encoded data removed]",
      "text/plain": [
       "<Figure size 864x324 with 2 Axes>"
      ]
     },
     "metadata": {},
     "output_type": "display_data"
    }
   ],
   "source": [
    "var_rf = numeric_features + pipeline_rf.named_steps['preprocessor'].transformers_[1][1].named_steps['encoder'].get_feature_names().tolist()\n",
    "var_gb = numeric_features + pipeline_gb.named_steps['preprocessor'].transformers_[1][1].named_steps['encoder'].get_feature_names().tolist()\n",
    "\n",
    "\n",
    "fi_rf = pd.DataFrame({'feature': var_rf, 'importance': pipeline_rf.steps[1][1].feature_importances_}).sort_values('importance', ascending = True)\n",
    "fi_gb = pd.DataFrame({'feature': var_gb, 'importance': pipeline_gb.steps[1][1].feature_importances_}).sort_values('importance', ascending = True)\n",
    "\n",
    "fig, (ax1, ax2) = plt.subplots(1, 2,figsize = (12, 4.5))\n",
    "fig.tight_layout(w_pad = 10)\n",
    "fig.suptitle('Most Important Drivers for Offer Completion', fontsize = 15, y = 1.08)\n",
    "\n",
    "ax1.barh(fi_rf.feature, fi_rf.importance)\n",
    "ax1.set_title(\"Random Forest\")\n",
    "ax2.barh(fi_gb.feature, fi_gb.importance)\n",
    "ax2.set_title(\"Gradient Boosting\")\n",
    "\n",
    "plt.show();"
   ]
  },
  {
   "cell_type": "markdown",
   "id": "0938ac87",
   "metadata": {},
   "source": [
    "**Observation**\n",
    "* Important features are consistent between the two models, as well as between modelling result and EDA analysis.\n",
    "* Features driving the offer completion are: \n",
    "  1. Total dollar spending (`total_exp `)\n",
    "  2. Reward given for completing an offer (`reward`)\n",
    "  3. Customer Tenure (`tenure`)\n",
    "  4. Customer Income (`income`)\n",
    "  5. Customer Age (`age`)"
   ]
  },
  {
   "cell_type": "markdown",
   "id": "b7a1c0e7",
   "metadata": {},
   "source": [
    "## 4.3. Conclustion & Reflection"
   ]
  },
  {
   "cell_type": "markdown",
   "id": "bc74e9ec",
   "metadata": {},
   "source": [
    "**Problem**\n",
    "* The goal of this analysis is to **increase coffee offer engagement and completion rate**. The problem can be broken down into 3 questions in sequense:\n",
    "1. Which offer channel is most effective to reach customers;\n",
    "2. Which offer should be sent to customers;\n",
    "3. What kind of custoemrs should be sending offer to.\n",
    "\n",
    "**Analysis Result**\n",
    "* From this analysis, we can conclude that:\n",
    "  1. Offers sent through social media are most effective with view rates over 90%. \n",
    "  2. Customers are more likely to complete discount offers over BOGO offers, with most popular offers # 5 (`fafdcd668e3743c1bb461111dcafc2a4`, 69%) and # 8 (`2298d6c36e964ae4a3e7e9706d1fb8c2`, 65%).\n",
    "  3. Customer features associated with high offer completion rate are:\n",
    "     * High total dollar spending\n",
    "     * Tenure within 3 year ~ 4 year\n",
    "     * High Income\n",
    "     * Age older than 55 years old\n",
    "\n",
    "**Problem Solution**\n",
    "* Based on findings above, we can provide the following business solution to the problem:\n",
    "  1. Start increasing proportion of offers sent through social media.\n",
    "  2. Send more discount offers. Target on offer # 5 and # 8.\n",
    "  3. Tartet customers with high income, high total dollar spending, 3~4 years of tenure and age above 55.\n",
    "\n",
    "**Improvement**\n",
    "* There is still room for improvement to better solve the problem. More advanced features could be useful to get better understanding of what's driving the offer completion rate. For example, we can further analyze how quick a customer completes an offer after viewing it. Those complete offer quickly could be Starbucks's loyal customers, whereas those complete slowly could be Starbuck's targeted segmentations to send more attractive offers. Also, those more advanced features would help improve model performance as well."
   ]
  },
  {
   "cell_type": "markdown",
   "id": "9767d0f6",
   "metadata": {},
   "source": []
  }
 ],
 "metadata": {
  "interpreter": {
   "hash": "40d3a090f54c6569ab1632332b64b2c03c39dcf918b08424e98f38b5ae0af88f"
  },
  "kernelspec": {
   "display_name": "Python 3.9.7 ('base')",
   "language": "python",
   "name": "python3"
  },
  "language_info": {
   "codemirror_mode": {
    "name": "ipython",
    "version": 3
   },
   "file_extension": ".py",
   "mimetype": "text/x-python",
   "name": "python",
   "nbconvert_exporter": "python",
   "pygments_lexer": "ipython3",
   "version": "3.9.7"
  }
 },
 "nbformat": 4,
 "nbformat_minor": 5
}
